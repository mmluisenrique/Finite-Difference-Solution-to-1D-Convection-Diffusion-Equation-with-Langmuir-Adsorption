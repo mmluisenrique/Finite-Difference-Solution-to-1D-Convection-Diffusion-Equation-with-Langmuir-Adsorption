{
 "cells": [
  {
   "cell_type": "code",
   "execution_count": 1,
   "metadata": {
    "collapsed": true
   },
   "outputs": [],
   "source": [
    "from ConvDiffLangmuirSolverFunc import *\n",
    "import matplotlib as mpl\n",
    "import matplotlib.pyplot as plt\n",
    "import numpy as np\n",
    "from scipy import stats, optimize\n",
    "######################################################################\n",
    "# Plot configurations\n",
    "# mpl.style.use('classic')\n",
    "mpl.rcParams['lines.linewidth'] = 1.0\n",
    "mpl.rcParams['lines.dashed_pattern'] = [6, 6]\n",
    "mpl.rcParams['lines.dashdot_pattern'] = [3, 5, 1, 5]\n",
    "mpl.rcParams['lines.dotted_pattern'] = [1, 3]\n",
    "mpl.rcParams['lines.scale_dashes'] = False\n",
    "\n",
    "mpl.rcParams['grid.color'] = 'k'\n",
    "mpl.rcParams['grid.linestyle'] = ':'\n",
    "mpl.rcParams['grid.linewidth'] = 0.5\n",
    "\n",
    "mpl.rcParams['axes.autolimit_mode'] = 'round_numbers'\n",
    "mpl.rcParams['axes.xmargin'] = 0\n",
    "mpl.rcParams['axes.ymargin'] = 0\n",
    "######################################################################\n",
    "%matplotlib inline"
   ]
  },
  {
   "cell_type": "code",
   "execution_count": 2,
   "metadata": {
    "collapsed": true
   },
   "outputs": [],
   "source": [
    "# dimensionless experimental data\n",
    "pv_exp=[0.06, 0.24, 0.47, 0.59, 0.71, 0.94, 1.00, 1.06, 1.12, 1.18, 1.29, 1.41, \n",
    "      1.53, 1.82, 2.24, 2.71, 2.94, 3.18];\n",
    "cout_exp=[0, 0, 0, 0, 0.043839945, 0.23571823, 0.393948895, 0.579304041,\n",
    "       0.682607092, 0.789883458, 0.920350084, 0.955819637, 0.983220378, 1.001877569, 0.997183646, \n",
    "       0.997183646, 1.001877569, 1.001877569];"
   ]
  },
  {
   "cell_type": "code",
   "execution_count": 3,
   "metadata": {
    "collapsed": true
   },
   "outputs": [],
   "source": [
    "bc      = np.rec.array([(1.), (0.)], \n",
    "          dtype=[('bcL','float64'), ('bcR','float64'),])\n",
    "\n",
    "numpar  = np.rec.array([(1000), (10), (3.5), (0), (0), (0), (0)], \n",
    "          dtype=[('nx','int64'), ('alfa1','float64'), ('tstop','float64'), \n",
    "                ('dx','float64'), ('dt','float64'),\n",
    "                ('alfa3','float64'), ('nt','int64'),])\n",
    "\n",
    "physpar = np.rec.array([(60),(10.),(600.)], \n",
    "          dtype=[('peclet','float64'), ('k','float64'), ('beta','float64')])\n",
    "\n",
    "varspatial  = np.rec.array([(np.zeros([numpar.nx,1])), (np.zeros([numpar.nx,1]))], \n",
    "          dtype=[('cmod_old','float64'), ('cmod','float64'), ])\n",
    "\n",
    "\n",
    "\n",
    "numpar.dx      = 1/float(numpar.nx)\n",
    "numpar.dt      = numpar.alfa1*numpar.dx\n",
    "numpar.alfa3   = numpar.dt/(physpar.peclet*(numpar.dx**2))\n",
    "numpar.nt      = int(numpar.tstop/numpar.dt)#+1e-6 \n",
    "\n",
    "pv = np.arange(0.0, numpar.tstop+numpar.dt, numpar.dt)\n",
    "vartemporal = np.rec.array([(pv), (np.zeros([len(pv)])), (np.zeros([len(pv)]))], \n",
    "          dtype=[('pv','float64'), ('cout','float64'),('time','float64') ])"
   ]
  },
  {
   "cell_type": "code",
   "execution_count": 4,
   "metadata": {},
   "outputs": [
    {
     "data": {
      "text/plain": [
       "<function matplotlib.pyplot.tight_layout>"
      ]
     },
     "execution_count": 4,
     "metadata": {},
     "output_type": "execute_result"
    },
    {
     "data": {
      "image/png": "[encoded data removed]",
      "text/plain": [
       "<Figure size 720x504 with 1 Axes>"
      ]
     },
     "metadata": {},
     "output_type": "display_data"
    }
   ],
   "source": [
    "varspatial, vartemporal = ConvDiffLangmuirSolver(numpar, physpar, bc)\n",
    "\n",
    "plt.figure(figsize=[10,7])\n",
    "plt.plot(pv_exp,cout_exp,'o',markersize=10,label='experiment')\n",
    "plt.plot(vartemporal.pv,vartemporal.cout,label='model')\n",
    "plt.grid()\n",
    "plt.xlabel('pv [-]')\n",
    "plt.ylabel('c [-]')\n",
    "plt.legend()\n",
    "plt.tight_layout"
   ]
  },
  {
   "cell_type": "code",
   "execution_count": 5,
   "metadata": {
    "collapsed": true
   },
   "outputs": [],
   "source": [
    "def misfit(x):\n",
    "    physpar.peclet = x[0]\n",
    "    physpar.k      = 0\n",
    "    physpar.beta   = 0\n",
    "    varspatial, vartemporal = ConvDiffLangmuirSolver(numpar, physpar, bc)\n",
    "    cout_est =  0 * np.ndarray(len(pv_exp))\n",
    "    r    = 0\n",
    "    for pv in pv_exp:\n",
    "        dif = abs(vartemporal.pv-pv)\n",
    "        a= float(vartemporal.cout[np.where(dif == dif.min())])\n",
    "        cout_est[r] = a\n",
    "        r = r + 1\n",
    "    s = sum((cout_exp-cout_est)**2)\n",
    "    return s"
   ]
  },
  {
   "cell_type": "code",
   "execution_count": 6,
   "metadata": {},
   "outputs": [
    {
     "data": {
      "text/plain": [
       " active_mask: array([ 0.])\n",
       "        cost: 0.0022557380223865763\n",
       "         fun: array([ 0.06716752])\n",
       "        grad: array([ -8.47806950e-09])\n",
       "         jac: array([[ -1.26222752e-07]])\n",
       "     message: '`gtol` termination condition is satisfied.'\n",
       "        nfev: 20\n",
       "        njev: 17\n",
       "  optimality: 8.4780695044630568e-09\n",
       "      status: 1\n",
       "     success: True\n",
       "           x: array([ 142.75])"
      ]
     },
     "execution_count": 6,
     "metadata": {},
     "output_type": "execute_result"
    }
   ],
   "source": [
    "lb = np.ndarray(shape=(3,) , \n",
    "               buffer = np.array([0.1, 0, 0]),\n",
    "               dtype = float) \n",
    "ub = np.ndarray(shape=(3,) , \n",
    "               buffer = np.array([1e5, 100, 10]),\n",
    "               dtype = float) \n",
    "bound =[lb,ub]\n",
    "\n",
    "x_initial = [1]\n",
    "es = optimize.least_squares(misfit, x_initial)\n",
    "es"
   ]
  },
  {
   "cell_type": "code",
   "execution_count": 10,
   "metadata": {},
   "outputs": [
    {
     "data": {
      "text/plain": [
       "<function matplotlib.pyplot.tight_layout>"
      ]
     },
     "execution_count": 10,
     "metadata": {},
     "output_type": "execute_result"
    },
    {
     "data": {
      "image/png": "[encoded data removed]",
      "text/plain": [
       "<Figure size 432x288 with 1 Axes>"
      ]
     },
     "metadata": {},
     "output_type": "display_data"
    }
   ],
   "source": [
    "# Fit visualization\n",
    "varspatial, vartemporal = ConvDiffLangmuirSolver(numpar, physpar, bc)\n",
    "plt.plot(vartemporal.pv,vartemporal.cout,label='numerical solotion')\n",
    "plt.plot(pv_exp,cout_exp,'o',markersize=10,label='experimental data')\n",
    "\n",
    "plt.xlabel('pore volume [-]')\n",
    "plt.ylabel('concentration [-]')\n",
    "plt.legend()\n",
    "plt.grid()\n",
    "plt.tight_layout"
   ]
  },
  {
   "cell_type": "code",
   "execution_count": null,
   "metadata": {
    "collapsed": true
   },
   "outputs": [],
   "source": []
  }
 ],
 "metadata": {
  "kernelspec": {
   "display_name": "Python 2",
   "language": "python",
   "name": "python2"
  },
  "language_info": {
   "codemirror_mode": {
    "name": "ipython",
    "version": 2
   },
   "file_extension": ".py",
   "mimetype": "text/x-python",
   "name": "python",
   "nbconvert_exporter": "python",
   "pygments_lexer": "ipython2",
   "version": "2.7.14"
  }
 },
 "nbformat": 4,
 "nbformat_minor": 2
}
